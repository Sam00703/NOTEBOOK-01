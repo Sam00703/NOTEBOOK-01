{
 "cells": [
  {
   "cell_type": "markdown",
   "id": "43af0cef-5e83-40db-9404-f0c0df66b96f",
   "metadata": {},
   "source": [
    "## DATA SCIENCE TOOLS"
   ]
  },
  {
   "cell_type": "markdown",
   "id": "7eba4957-6a86-4edf-8c8e-234e24cf902f",
   "metadata": {},
   "source": [
    "### INTRODUCTION"
   ]
  },
  {
   "cell_type": "markdown",
   "id": "82268d86-7dc4-4efc-ba28-1ca4adfe696b",
   "metadata": {},
   "source": [
    "Data Science involves the use of scientific methods, processes, algorithms, and systems to extract knowledge and insights from data. This notebook outlines key tools and basic operations used in Data Science.\n"
   ]
  },
  {
   "cell_type": "markdown",
   "id": "7f6ae18d-8502-488f-b2e6-3cf78431ae26",
   "metadata": {},
   "source": [
    "### DATA SCIENCE LANGUAGES"
   ]
  },
  {
   "cell_type": "markdown",
   "id": "bb6bc1e7-9856-479d-a631-9f68ef64bdee",
   "metadata": {},
   "source": [
    "- Python\n",
    "- R\n",
    "- SQL\n",
    "- Julia"
   ]
  },
  {
   "cell_type": "markdown",
   "id": "afdb1a10-e15b-4035-9539-0ea69ec2460b",
   "metadata": {},
   "source": [
    "### DATA SCIENCE LIBRARIES"
   ]
  },
  {
   "cell_type": "markdown",
   "id": "c668dbc1-148d-45ac-b0a0-60035fe6cbf0",
   "metadata": {},
   "source": [
    "- Pandas\n",
    "- NumPy\n",
    "- Matplotlib\n",
    "- Scikit-learn\n"
   ]
  },
  {
   "cell_type": "markdown",
   "id": "ba1a2de5-f17e-4057-9f0c-8e8941aeb8e7",
   "metadata": {},
   "source": [
    "### DATA SCIENCE TOOLS"
   ]
  },
  {
   "cell_type": "markdown",
   "id": "a8875d5a-8512-4cc7-9047-eaf935008702",
   "metadata": {},
   "source": [
    " Category         | Tools                        |\n",
    "|------------------|------------------------------|\n",
    "| Data Cleaning    | OpenRefine, Pandas           |\n",
    "| Visualization    | Matplotlib, Seaborn, Tableau |\n",
    "| Machine Learning | Scikit-learn, TensorFlow     |\n",
    "| Big Data         | Hadoop, Spark "
   ]
  },
  {
   "cell_type": "markdown",
   "id": "42f072a9-c076-448b-ae84-c609ecc8f9b5",
   "metadata": {},
   "source": [
    "### ARITHMETIC EXPRESSION EXAMPLES"
   ]
  },
  {
   "cell_type": "markdown",
   "id": "67c0e2df-d296-4eef-8a74-77bebfb2376d",
   "metadata": {},
   "source": [
    "- `2 + 2` adds two numbers\n",
    "- `15 - 5` subtracts two numbers\n",
    "- `8 * 4` multiplies two numbers\n",
    "- `32 / 8` divides two numbers"
   ]
  },
  {
   "cell_type": "code",
   "execution_count": 1,
   "id": "2ba8ec8d-ba6f-4571-8f37-e42392ecd1f6",
   "metadata": {},
   "outputs": [
    {
     "name": "stdout",
     "output_type": "stream",
     "text": [
      "Sum: 4\n",
      "Product: 4\n"
     ]
    }
   ],
   "source": [
    "a = 2\n",
    "b = 2\n",
    "sum_result = a + b\n",
    "product_result = a * b\n",
    "print(\"Sum:\", sum_result)\n",
    "print(\"Product:\", product_result)"
   ]
  },
  {
   "cell_type": "code",
   "execution_count": 2,
   "id": "1417339f-e056-4fba-9adc-528996608d9b",
   "metadata": {},
   "outputs": [
    {
     "name": "stdout",
     "output_type": "stream",
     "text": [
      "120 minutes is equal to 2.0 hours.\n"
     ]
    }
   ],
   "source": [
    "minutes = 120\n",
    "hours = minutes / 60\n",
    "print(f\"{minutes} minutes is equal to {hours} hours.\")"
   ]
  },
  {
   "cell_type": "markdown",
   "id": "460b446f-717d-478c-b034-8b11bbe6cb01",
   "metadata": {},
   "source": [
    "### OBJECTIVES"
   ]
  },
  {
   "cell_type": "markdown",
   "id": "f4736ed4-e744-4b65-9877-4c92a17bc696",
   "metadata": {},
   "source": [
    "- Understand data science tools\n",
    "- Practice with Markdown cells\n",
    "- Perform basic arithmetic operations using Python\n",
    "- Convert time units using Python code\n"
   ]
  },
  {
   "cell_type": "markdown",
   "id": "c91bf80d-9c56-4d9f-a5a4-90721487ca73",
   "metadata": {},
   "source": [
    "## AUTHOR NAME"
   ]
  },
  {
   "cell_type": "markdown",
   "id": "3007c27d-2360-4f3e-8b12-aa2292137506",
   "metadata": {},
   "source": []
  }
 ],
 "metadata": {
  "kernelspec": {
   "display_name": "Python 3 (ipykernel)",
   "language": "python",
   "name": "python3"
  },
  "language_info": {
   "codemirror_mode": {
    "name": "ipython",
    "version": 3
   },
   "file_extension": ".py",
   "mimetype": "text/x-python",
   "name": "python",
   "nbconvert_exporter": "python",
   "pygments_lexer": "ipython3",
   "version": "3.13.2"
  }
 },
 "nbformat": 4,
 "nbformat_minor": 5
}
